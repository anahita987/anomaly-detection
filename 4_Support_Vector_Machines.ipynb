{
 "cells": [
  {
   "cell_type": "code",
   "execution_count": 2,
   "metadata": {
    "ExecuteTime": {
     "end_time": "2021-03-14T17:49:05.145470Z",
     "start_time": "2021-03-14T17:49:03.513749Z"
    }
   },
   "outputs": [
    {
     "name": "stdout",
     "output_type": "stream",
     "text": [
      "Setting is done:\n",
      "Make the notebook html as wide as possible\n"
     ]
    },
    {
     "data": {
      "text/html": [
       "<style>.container { width:100% !important; }</style>"
      ],
      "text/plain": [
       "<IPython.core.display.HTML object>"
      ]
     },
     "metadata": {},
     "output_type": "display_data"
    },
    {
     "name": "stdout",
     "output_type": "stream",
     "text": [
      "\n",
      "G:\\Meine Ablage\\price_anomaly_detection\n"
     ]
    }
   ],
   "source": [
    "import pandas            as pd\n",
    "import pandasql          as psql\n",
    "import numpy             as np\n",
    "import os\n",
    "import datetime\n",
    "import time\n",
    "import math\n",
    "import IPython\n",
    "\n",
    "import matplotlib.pyplot as plt\n",
    "from sklearn.cluster import KMeans\n",
    "from sklearn.model_selection import train_test_split\n",
    "\n",
    "\n",
    "from   IPython.core.display           import display, HTML\n",
    "from   decimal                        import Decimal\n",
    "\n",
    "pd.set_option('display.max_columns' , 500)\n",
    "pd.set_option('display.max_rows'    , 5000)\n",
    "pd.set_option('display.max_colwidth', None)\n",
    "\n",
    "print('Setting is done:')\n",
    "\n",
    "\n",
    "#------------------------------------\n",
    "print('Make the notebook html as wide as possible')\n",
    "display(HTML(\"<style>.container { width:100% !important; }</style>\"))\n",
    "print()\n",
    "\n",
    "script_dir = os.getcwd()\n",
    "print(script_dir)"
   ]
  },
  {
   "cell_type": "code",
   "execution_count": 10,
   "metadata": {
    "ExecuteTime": {
     "end_time": "2021-03-14T17:50:57.301898Z",
     "start_time": "2021-03-14T17:50:57.290995Z"
    }
   },
   "outputs": [],
   "source": [
    "from sklearn.cluster import KMeans\n",
    "from numpy import sqrt, array, random, argsort\n",
    "from sklearn.preprocessing import scale\n",
    "from sklearn.datasets import load_boston\n",
    "import matplotlib.pyplot as plt\n",
    "\n",
    "\n",
    "from sklearn.preprocessing import StandardScaler\n",
    "from sklearn.decomposition import PCA\n",
    "from matplotlib import pyplot as plt\n",
    "from sklearn.cluster import KMeans\n",
    "from sklearn import preprocessing\n",
    "import pandas as pd\n",
    "import numpy as np\n",
    "\n",
    "from sklearn import svm"
   ]
  },
  {
   "cell_type": "code",
   "execution_count": 4,
   "metadata": {
    "ExecuteTime": {
     "end_time": "2021-03-14T17:49:05.247841Z",
     "start_time": "2021-03-14T17:49:05.220149Z"
    }
   },
   "outputs": [],
   "source": [
    "df = pd.read_csv(script_dir +'/TSLA.CSV/')"
   ]
  },
  {
   "cell_type": "code",
   "execution_count": 12,
   "metadata": {
    "ExecuteTime": {
     "end_time": "2021-03-14T17:52:46.062069Z",
     "start_time": "2021-03-14T17:52:10.189983Z"
    }
   },
   "outputs": [
    {
     "data": {
      "image/png": "[encoded data removed]",
      "text/plain": [
       "<Figure size 720x432 with 1 Axes>"
      ]
     },
     "metadata": {
      "needs_background": "light"
     },
     "output_type": "display_data"
    }
   ],
   "source": [
    "data = df[['Open', 'High', 'Low', 'Close', 'Adj Close', 'Volume']]\n",
    "scaler = StandardScaler()\n",
    "np_scaled = scaler.fit_transform(data)\n",
    "data = pd.DataFrame(np_scaled)\n",
    "# train oneclassSVM \n",
    "outliers_fraction = 0.015\n",
    "\n",
    "model = svm.OneClassSVM(nu=outliers_fraction, kernel=\"rbf\", gamma=0.01)\n",
    "model.fit(data)\n",
    "df['anomaly3'] = pd.Series(model.predict(data))\n",
    "\n",
    "fig, ax = plt.subplots(figsize=(10,6))\n",
    "a = df.loc[df['anomaly3'] == -1, ['Date', 'High']] #anomaly\n",
    "\n",
    "ax.plot(df['Date'], df['High'], color='blue')\n",
    "ax.scatter(a['Date'],a['High'], color='red')\n",
    "plt.show();"
   ]
  },
  {
   "cell_type": "code",
   "execution_count": null,
   "metadata": {},
   "outputs": [],
   "source": [
    "#lefin"
   ]
  }
 ],
 "metadata": {
  "kernelspec": {
   "display_name": "Python 3",
   "language": "python",
   "name": "python3"
  },
  "language_info": {
   "codemirror_mode": {
    "name": "ipython",
    "version": 3
   },
   "file_extension": ".py",
   "mimetype": "text/x-python",
   "name": "python",
   "nbconvert_exporter": "python",
   "pygments_lexer": "ipython3",
   "version": "3.8.5"
  }
 },
 "nbformat": 4,
 "nbformat_minor": 4
}
