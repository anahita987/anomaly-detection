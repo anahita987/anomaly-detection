{
 "cells": [
  {
   "cell_type": "code",
   "execution_count": 26,
   "metadata": {
    "ExecuteTime": {
     "end_time": "2021-03-14T21:58:28.515735Z",
     "start_time": "2021-03-14T21:58:28.498854Z"
    }
   },
   "outputs": [
    {
     "name": "stdout",
     "output_type": "stream",
     "text": [
      "Setting is done:\n",
      "Make the notebook html as wide as possible\n"
     ]
    },
    {
     "data": {
      "text/html": [
       "<style>.container { width:100% !important; }</style>"
      ],
      "text/plain": [
       "<IPython.core.display.HTML object>"
      ]
     },
     "metadata": {},
     "output_type": "display_data"
    },
    {
     "name": "stdout",
     "output_type": "stream",
     "text": [
      "\n",
      "G:\\Meine Ablage\\price_anomaly_detection\n"
     ]
    }
   ],
   "source": [
    "import pandas            as pd\n",
    "import pandasql          as psql\n",
    "import numpy             as np\n",
    "import os\n",
    "import datetime\n",
    "import time\n",
    "import math\n",
    "import IPython\n",
    "\n",
    "import matplotlib.pyplot as plt\n",
    "from sklearn.cluster import KMeans\n",
    "from sklearn.model_selection import train_test_split\n",
    "\n",
    "\n",
    "from   IPython.core.display           import display, HTML\n",
    "from   decimal                        import Decimal\n",
    "\n",
    "pd.set_option('display.max_columns' , 500)\n",
    "pd.set_option('display.max_rows'    , 5000)\n",
    "pd.set_option('display.max_colwidth', None)\n",
    "\n",
    "print('Setting is done:')\n",
    "\n",
    "\n",
    "#------------------------------------\n",
    "print('Make the notebook html as wide as possible')\n",
    "display(HTML(\"<style>.container { width:100% !important; }</style>\"))\n",
    "print()\n",
    "\n",
    "script_dir = os.getcwd()\n",
    "print(script_dir)"
   ]
  },
  {
   "cell_type": "code",
   "execution_count": 27,
   "metadata": {
    "ExecuteTime": {
     "end_time": "2021-03-14T21:58:29.047261Z",
     "start_time": "2021-03-14T21:58:29.036121Z"
    }
   },
   "outputs": [],
   "source": [
    "from sklearn.cluster import KMeans\n",
    "from numpy import sqrt, array, random, argsort\n",
    "from sklearn.preprocessing import scale\n",
    "from sklearn.datasets import load_boston\n",
    "import matplotlib.pyplot as plt\n",
    "\n",
    "\n",
    "from sklearn.preprocessing import StandardScaler\n",
    "from sklearn.decomposition import PCA\n",
    "from matplotlib import pyplot as plt\n",
    "from sklearn.cluster import KMeans\n",
    "from sklearn import preprocessing\n",
    "import pandas as pd\n",
    "import numpy as np\n",
    "\n",
    "from scipy.stats import multivariate_normal"
   ]
  },
  {
   "cell_type": "code",
   "execution_count": 28,
   "metadata": {
    "ExecuteTime": {
     "end_time": "2021-03-14T21:58:29.733587Z",
     "start_time": "2021-03-14T21:58:29.705607Z"
    }
   },
   "outputs": [],
   "source": [
    "df = pd.read_csv(script_dir +'/TSLA.CSV/')"
   ]
  },
  {
   "cell_type": "code",
   "execution_count": 38,
   "metadata": {
    "ExecuteTime": {
     "end_time": "2021-03-14T22:00:16.625537Z",
     "start_time": "2021-03-14T22:00:16.612413Z"
    }
   },
   "outputs": [],
   "source": [
    "#define paramter for feature normalization\n",
    "def feature_normalize(dataset):\n",
    "    mu = np.mean(dataset, axis=0)\n",
    "    sigma = np.std(dataset, axis=0)\n",
    "    return (dataset - mu) / sigma\n",
    "\n",
    "#define the parameter and estimate the Gaussian distribution\n",
    "def estimateGaussian(dataset):\n",
    "    mu = np.mean(dataset, axis=0)\n",
    "    sigma = np.cov(dataset.T)\n",
    "    return mu, sigma\n",
    "\n",
    "#define the multivariate Gaussian distribution\n",
    "def multivariateGaussian(dataset, mu, sigma):\n",
    "    p = multivariate_normal(mean=mu, cov=sigma)\n",
    "    return p.pdf(dataset)"
   ]
  },
  {
   "cell_type": "code",
   "execution_count": 30,
   "metadata": {
    "ExecuteTime": {
     "end_time": "2021-03-14T21:58:34.333933Z",
     "start_time": "2021-03-14T21:58:34.327934Z"
    }
   },
   "outputs": [],
   "source": [
    "def selectThresholdByCV(probs,gt):\n",
    "    best_epsilon = 0\n",
    "    best_f1 = 0\n",
    "    f = 0\n",
    "    stepsize = (max(probs) - min(probs)) / 1000;\n",
    "    epsilons = np.arange(min(probs),max(probs),stepsize)\n",
    "    for epsilon in np.nditer(epsilons):\n",
    "        predictions = (probs < epsilon)\n",
    "        f = f1_score(gt, predictions, average = \"binary\")\n",
    "        if f > best_f1:\n",
    "            best_f1 = f\n",
    "            best_epsilon = epsilon\n",
    "    return best_f1, best_epsilon"
   ]
  },
  {
   "cell_type": "code",
   "execution_count": 41,
   "metadata": {
    "ExecuteTime": {
     "end_time": "2021-03-14T22:03:32.193057Z",
     "start_time": "2021-03-14T22:03:32.186058Z"
    }
   },
   "outputs": [],
   "source": [
    "train_data = df[['Date', 'High']]"
   ]
  },
  {
   "cell_type": "code",
   "execution_count": 48,
   "metadata": {
    "ExecuteTime": {
     "end_time": "2021-03-14T22:04:51.375152Z",
     "start_time": "2021-03-14T22:04:51.354517Z"
    }
   },
   "outputs": [
    {
     "ename": "NameError",
     "evalue": "name 'gt_data' is not defined",
     "output_type": "error",
     "traceback": [
      "\u001b[1;31m---------------------------------------------------------------------------\u001b[0m",
      "\u001b[1;31mNameError\u001b[0m                                 Traceback (most recent call last)",
      "\u001b[1;32m<ipython-input-48-1c6eac90a57f>\u001b[0m in \u001b[0;36m<module>\u001b[1;34m\u001b[0m\n\u001b[0;32m      7\u001b[0m \u001b[1;33m\u001b[0m\u001b[0m\n\u001b[0;32m      8\u001b[0m \u001b[0mp_cv\u001b[0m \u001b[1;33m=\u001b[0m \u001b[0mmultivariateGaussian\u001b[0m\u001b[1;33m(\u001b[0m\u001b[0mtrain_data\u001b[0m\u001b[1;33m,\u001b[0m\u001b[0mmu\u001b[0m\u001b[1;33m,\u001b[0m\u001b[0msigma\u001b[0m\u001b[1;33m)\u001b[0m\u001b[1;33m\u001b[0m\u001b[1;33m\u001b[0m\u001b[0m\n\u001b[1;32m----> 9\u001b[1;33m \u001b[0mfscore\u001b[0m\u001b[1;33m,\u001b[0m \u001b[0mep\u001b[0m \u001b[1;33m=\u001b[0m \u001b[0mselectThresholdByCV\u001b[0m\u001b[1;33m(\u001b[0m\u001b[0mp_cv\u001b[0m\u001b[1;33m,\u001b[0m\u001b[0mgt_data\u001b[0m\u001b[1;33m)\u001b[0m\u001b[1;33m\u001b[0m\u001b[1;33m\u001b[0m\u001b[0m\n\u001b[0m\u001b[0;32m     10\u001b[0m \u001b[0moutliers\u001b[0m \u001b[1;33m=\u001b[0m \u001b[0mnp\u001b[0m\u001b[1;33m.\u001b[0m\u001b[0masarray\u001b[0m\u001b[1;33m(\u001b[0m\u001b[0mnp\u001b[0m\u001b[1;33m.\u001b[0m\u001b[0mwhere\u001b[0m\u001b[1;33m(\u001b[0m\u001b[0mp\u001b[0m \u001b[1;33m<\u001b[0m \u001b[0mep\u001b[0m\u001b[1;33m)\u001b[0m\u001b[1;33m)\u001b[0m\u001b[1;33m\u001b[0m\u001b[1;33m\u001b[0m\u001b[0m\n\u001b[0;32m     11\u001b[0m \u001b[1;33m\u001b[0m\u001b[0m\n",
      "\u001b[1;31mNameError\u001b[0m: name 'gt_data' is not defined"
     ]
    }
   ],
   "source": [
    "n_training_samples = df.shape[0]\n",
    "n_dim = df.shape[1]\n",
    "train_data = df[['High']]\n",
    "\n",
    "mu, sigma = estimateGaussian(train_data)\n",
    "p = multivariateGaussian(train_data,mu,sigma)\n",
    "\n",
    "p_cv = multivariateGaussian(train_data,mu,sigma)\n",
    "fscore, ep = selectThresholdByCV(p_cv,gt_data)\n",
    "outliers = np.asarray(np.where(p < ep))\n",
    "\n",
    "# plt.figure()\n",
    "# plt.xlabel(\"Latency (ms)\")\n",
    "# plt.ylabel(\"Throughput (mb/s)\")\n",
    "# plt.plot(tr_data[:,0],tr_data[:,1],\"bx\") plt.plot(tr_data[outliers,0],tr_data[outliers,1],\"ro\")\n",
    "# plt.show()"
   ]
  },
  {
   "cell_type": "code",
   "execution_count": 23,
   "metadata": {
    "ExecuteTime": {
     "end_time": "2021-03-14T21:57:33.115570Z",
     "start_time": "2021-03-14T21:57:33.104829Z"
    }
   },
   "outputs": [
    {
     "data": {
      "text/plain": [
       "7"
      ]
     },
     "execution_count": 23,
     "metadata": {},
     "output_type": "execute_result"
    }
   ],
   "source": [
    "n_dim"
   ]
  },
  {
   "cell_type": "code",
   "execution_count": null,
   "metadata": {},
   "outputs": [],
   "source": []
  },
  {
   "cell_type": "code",
   "execution_count": 19,
   "metadata": {
    "ExecuteTime": {
     "end_time": "2021-03-14T21:52:56.717050Z",
     "start_time": "2021-03-14T21:52:56.713018Z"
    },
    "scrolled": true
   },
   "outputs": [
    {
     "data": {
      "text/plain": [
       "Open         5.848506e+01\n",
       "High         5.978442e+01\n",
       "Low          5.713246e+01\n",
       "Close        5.854538e+01\n",
       "Adj Close    5.854538e+01\n",
       "Volume       3.047029e+07\n",
       "dtype: float64"
      ]
     },
     "execution_count": 19,
     "metadata": {},
     "output_type": "execute_result"
    }
   ],
   "source": [
    "mu"
   ]
  },
  {
   "cell_type": "code",
   "execution_count": 49,
   "metadata": {
    "ExecuteTime": {
     "end_time": "2021-03-14T22:05:40.989959Z",
     "start_time": "2021-03-14T22:05:40.968319Z"
    }
   },
   "outputs": [
    {
     "ename": "NameError",
     "evalue": "name 'crossval_data' is not defined",
     "output_type": "error",
     "traceback": [
      "\u001b[1;31m---------------------------------------------------------------------------\u001b[0m",
      "\u001b[1;31mNameError\u001b[0m                                 Traceback (most recent call last)",
      "\u001b[1;32m<ipython-input-49-289afc839ca3>\u001b[0m in \u001b[0;36m<module>\u001b[1;34m\u001b[0m\n\u001b[0;32m     20\u001b[0m \u001b[1;33m\u001b[0m\u001b[0m\n\u001b[0;32m     21\u001b[0m \u001b[1;31m#selecting optimal value of epsilon using cross validation\u001b[0m\u001b[1;33m\u001b[0m\u001b[1;33m\u001b[0m\u001b[1;33m\u001b[0m\u001b[0m\n\u001b[1;32m---> 22\u001b[1;33m \u001b[0mp_cv\u001b[0m \u001b[1;33m=\u001b[0m \u001b[0mmultivariate_gaussian\u001b[0m\u001b[1;33m(\u001b[0m\u001b[0mcrossval_data\u001b[0m\u001b[1;33m,\u001b[0m\u001b[0mmu\u001b[0m\u001b[1;33m,\u001b[0m\u001b[0msigma\u001b[0m\u001b[1;33m)\u001b[0m\u001b[1;33m\u001b[0m\u001b[1;33m\u001b[0m\u001b[0m\n\u001b[0m\u001b[0;32m     23\u001b[0m \u001b[0mfscore\u001b[0m\u001b[1;33m,\u001b[0m \u001b[0mep\u001b[0m \u001b[1;33m=\u001b[0m \u001b[0mselect_threshold\u001b[0m\u001b[1;33m(\u001b[0m\u001b[0mp_cv\u001b[0m\u001b[1;33m,\u001b[0m\u001b[0mtest_data\u001b[0m\u001b[1;33m)\u001b[0m\u001b[1;33m\u001b[0m\u001b[1;33m\u001b[0m\u001b[0m\n\u001b[0;32m     24\u001b[0m \u001b[0mprint\u001b[0m\u001b[1;33m(\u001b[0m\u001b[0mfscore\u001b[0m\u001b[1;33m,\u001b[0m \u001b[0mep\u001b[0m\u001b[1;33m)\u001b[0m\u001b[1;33m\u001b[0m\u001b[1;33m\u001b[0m\u001b[0m\n",
      "\u001b[1;31mNameError\u001b[0m: name 'crossval_data' is not defined"
     ]
    }
   ],
   "source": [
    "data = df[['Open']]\n",
    "\n",
    "def select_threshold(probs, test_data):\n",
    "    best_epsilon = 0\n",
    "    best_f1 = 0\n",
    "    f = 0\n",
    "    stepsize = (max(probs) - min(probs)) / 1000;\n",
    "    epsilons = np.arange(min(probs), max(probs), stepsize)\n",
    "    for epsilon in np.nditer(epsilons):\n",
    "        predictions = (probs < epsilon)\n",
    "        f = f1_score(test_data, predictions, average='binary')\n",
    "        if f > best_f1:\n",
    "            best_f1 = f\n",
    "            best_epsilon = epsilon\n",
    "\n",
    "    return best_f1, best_epsilon\n",
    "\n",
    "mu, sigma = estimate_gaussian(data)\n",
    "p = multivariate_gaussian(data,mu,sigma)\n",
    "\n",
    "#selecting optimal value of epsilon using cross validation\n",
    "p_cv = multivariate_gaussian(crossval_data,mu,sigma)\n",
    "fscore, ep = select_threshold(p_cv,test_data)\n",
    "print(fscore, ep)\n",
    "\n",
    "#selecting outlier datapoints\n",
    "outliers = np.asarray(np.where(p < ep))"
   ]
  },
  {
   "cell_type": "code",
   "execution_count": null,
   "metadata": {},
   "outputs": [],
   "source": []
  },
  {
   "cell_type": "code",
   "execution_count": null,
   "metadata": {},
   "outputs": [],
   "source": [
    "# https://towardsdatascience.com/time-series-of-price-anomaly-detection-13586cd5ff46\n",
    "\n",
    "\n",
    "####FRAGE: brauchen wir für Gaussian dristribution nicht eine 0/1 Variable? Wenn ja, welche ist das in unserem Fall?\n",
    "\n",
    "df_class0 = df.loc[df['srch_saturday_night_bool'] == 0, 'price_usd']\n",
    "df_class1 = df.loc[df['srch_saturday_night_bool'] == 1, 'price_usd']\n",
    "\n",
    "envelope =  EllipticEnvelope(contamination = outliers_fraction) \n",
    "X_train = df_class0.values.reshape(-1,1)\n",
    "envelope.fit(X_train)\n",
    "df_class0 = pd.DataFrame(df_class0)\n",
    "df_class0['deviation'] = envelope.decision_function(X_train)\n",
    "df_class0['anomaly'] = envelope.predict(X_train)\n",
    "\n",
    "envelope =  EllipticEnvelope(contamination = outliers_fraction) \n",
    "X_train = df_class1.values.reshape(-1,1)\n",
    "envelope.fit(X_train)\n",
    "df_class1 = pd.DataFrame(df_class1)\n",
    "df_class1['deviation'] = envelope.decision_function(X_train)\n",
    "df_class1['anomaly'] = envelope.predict(X_train)\n",
    "\n",
    "df_class = pd.concat([df_class0, df_class1])\n",
    "df['anomaly5'] = df_class['anomaly']\n",
    "fig, ax = plt.subplots(figsize=(10, 6))\n",
    "a = df.loc[df['anomaly5'] == -1, ('date_time_int', 'price_usd')] #anomaly\n",
    "ax.plot(df['date_time_int'], df['price_usd'], color='blue')\n",
    "ax.scatter(a['date_time_int'],a['price_usd'], color='red')\n",
    "plt.show();"
   ]
  },
  {
   "cell_type": "code",
   "execution_count": null,
   "metadata": {},
   "outputs": [],
   "source": []
  },
  {
   "cell_type": "code",
   "execution_count": null,
   "metadata": {},
   "outputs": [],
   "source": []
  }
 ],
 "metadata": {
  "kernelspec": {
   "display_name": "Python 3",
   "language": "python",
   "name": "python3"
  },
  "language_info": {
   "codemirror_mode": {
    "name": "ipython",
    "version": 3
   },
   "file_extension": ".py",
   "mimetype": "text/x-python",
   "name": "python",
   "nbconvert_exporter": "python",
   "pygments_lexer": "ipython3",
   "version": "3.8.5"
  }
 },
 "nbformat": 4,
 "nbformat_minor": 4
}
