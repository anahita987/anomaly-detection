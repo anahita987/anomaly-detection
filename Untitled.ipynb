{
 "cells": [
  {
   "cell_type": "code",
   "execution_count": 3,
   "metadata": {},
   "outputs": [
    {
     "name": "stdout",
     "output_type": "stream",
     "text": [
      "Setting is done:\n",
      "Make the notebook html as wide as possible\n"
     ]
    },
    {
     "data": {
      "text/html": [
       "<style>.container { width:100% !important; }</style>"
      ],
      "text/plain": [
       "<IPython.core.display.HTML object>"
      ]
     },
     "metadata": {},
     "output_type": "display_data"
    },
    {
     "name": "stdout",
     "output_type": "stream",
     "text": [
      "\n",
      "G:\\Meine Ablage\n"
     ]
    }
   ],
   "source": [
    "import pandas            as pd\n",
    "import pandasql          as psql\n",
    "import numpy             as np\n",
    "import os\n",
    "import datetime\n",
    "#import openpyxl\n",
    "import time\n",
    "import math\n",
    "import IPython\n",
    "\n",
    "from   IPython.core.display           import display, HTML\n",
    "#from   glue                           import qglue\n",
    "from   decimal                        import Decimal\n",
    "\n",
    "pd.set_option('display.max_columns' , 500)\n",
    "pd.set_option('display.max_rows'    , 5000)\n",
    "pd.set_option('display.max_colwidth', None)\n",
    "\n",
    "print('Setting is done:')\n",
    "\n",
    "\n",
    "#------------------------------------\n",
    "print('Make the notebook html as wide as possible')\n",
    "display(HTML(\"<style>.container { width:100% !important; }</style>\"))\n",
    "print()\n",
    "\n",
    "script_dir = os.getcwd()\n",
    "print(script_dir)"
   ]
  },
  {
   "cell_type": "code",
   "execution_count": null,
   "metadata": {},
   "outputs": [],
   "source": [
    "print('-------------------------------------------------')\n",
    "print('Read in Tariff generation data')\n",
    "print()\n",
    "\n",
    "print(\"Start reading in data from file \",datetime.datetime.now())\n",
    "print()\n",
    "df_tg = pd.read_csv(script_dir +'/data/' + ratebook, delimiter = ',')\n",
    "print('Read in Tariff generation data is done....')\n",
    "print()"
   ]
  }
 ],
 "metadata": {
  "kernelspec": {
   "display_name": "Python 3",
   "language": "python",
   "name": "python3"
  },
  "language_info": {
   "codemirror_mode": {
    "name": "ipython",
    "version": 3
   },
   "file_extension": ".py",
   "mimetype": "text/x-python",
   "name": "python",
   "nbconvert_exporter": "python",
   "pygments_lexer": "ipython3",
   "version": "3.7.6"
  }
 },
 "nbformat": 4,
 "nbformat_minor": 4
}
